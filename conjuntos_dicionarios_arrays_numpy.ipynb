{
  "nbformat": 4,
  "nbformat_minor": 0,
  "metadata": {
    "colab": {
      "provenance": [],
      "authorship_tag": "ABX9TyP+aKfw9nQ8xksvWRceGkdr",
      "include_colab_link": true
    },
    "kernelspec": {
      "name": "python3",
      "display_name": "Python 3"
    },
    "language_info": {
      "name": "python"
    }
  },
  "cells": [
    {
      "cell_type": "markdown",
      "metadata": {
        "id": "view-in-github",
        "colab_type": "text"
      },
      "source": [
        "<a href=\"https://colab.research.google.com/github/leandrodakel/PYTHON/blob/main/conjuntos_dicionarios_arrays_numpy.ipynb\" target=\"_parent\"><img src=\"https://colab.research.google.com/assets/colab-badge.svg\" alt=\"Open In Colab\"/></a>"
      ]
    },
    {
      "cell_type": "code",
      "execution_count": 2,
      "metadata": {
        "colab": {
          "base_uri": "https://localhost:8080/"
        },
        "id": "LIBDZPhcT3hh",
        "outputId": "f14b8604-3363-48c8-c8a9-4b39ec1f5084"
      },
      "outputs": [
        {
          "output_type": "stream",
          "name": "stdout",
          "text": [
            "Regiões dos participantes: {'Brasil', 'EUA', 'Índia'}\n",
            "Afiliações dos participantes:\n",
            "Universidade A: Alice\n",
            "Instituto B: Bob\n",
            "Instituto C: Charlie\n",
            "Área de interesse mais popular: Astronomia\n"
          ]
        }
      ],
      "source": [
        "#Para estimular a compreensão desses conteúdos, suponha que você esteja gerenciando um evento científico para o qual participantes de diferentes regiões do mundo se inscreveram. Cada participante concedeu informações sobre sua localização, afiliação a instituições de pesquisa e áreas de interesse. O objetivo é desenvolver análises sobre a distribuição geográfica dos participantes, suas afiliações e as áreas de interesse predominantes. Como podemos utilizar os conhecimentos desta aula para resolver esse caso?\n",
        "\n",
        "# Importe as bibliotecas necessárias\n",
        "\n",
        "import numpy as np\n",
        "\n",
        "# Dados dos participantes\n",
        "\n",
        "participantes = [\n",
        "\n",
        "    {\n",
        "\n",
        "        \"nome\": \"Alice\",\n",
        "\n",
        "        \"localizacao\": \"EUA\",\n",
        "\n",
        "        \"afiliacao\": \"Universidade A\",\n",
        "\n",
        "        \"interesses\": [\"Física\", \"Astronomia\"]\n",
        "\n",
        "    },\n",
        "\n",
        "    {\n",
        "\n",
        "        \"nome\": \"Bob\",\n",
        "\n",
        "        \"localizacao\": \"Brasil\",\n",
        "\n",
        "        \"afiliacao\": \"Instituto B\",\n",
        "\n",
        "        \"interesses\": [\"Biologia\", \"Astronomia\"]\n",
        "\n",
        "    },\n",
        "\n",
        "    {\n",
        "\n",
        "        \"nome\": \"Charlie\",\n",
        "\n",
        "        \"localizacao\": \"Índia\",\n",
        "\n",
        "        \"afiliacao\": \"Instituto C\",\n",
        "\n",
        "        \"interesses\": [\"Química\", \"Engenharia\"]\n",
        "\n",
        "    }\n",
        "\n",
        "    # Adicione mais participantes conforme necessário\n",
        "\n",
        "]\n",
        "\n",
        "# Usando sets para identificar diferentes regiões dos participantes\n",
        "\n",
        "regioes = set(participante[\"localizacao\"] for participante in participantes)\n",
        "\n",
        "# Usando um dicionário para categorizar afiliações\n",
        "\n",
        "afiliacoes = {}\n",
        "\n",
        "for participante in participantes:\n",
        "\n",
        "    afiliacao = participante[\"afiliacao\"]\n",
        "\n",
        "    if afiliacao not in afiliacoes:\n",
        "\n",
        "        afiliacoes[afiliacao] = []\n",
        "\n",
        "    afiliacoes[afiliacao].append(participante[\"nome\"])\n",
        "\n",
        "# Usando NumPy para analisar áreas de interesse\n",
        "\n",
        "areas_de_interesse = np.array([interesse for participante in participantes for interesse in participante[\"interesses\"]])\n",
        "\n",
        "interesses_unicos, contagem = np.unique(areas_de_interesse, return_counts=True)\n",
        "\n",
        "area_mais_popular = interesses_unicos[np.argmax(contagem)]\n",
        "\n",
        "# Resultados\n",
        "\n",
        "print(\"Regiões dos participantes:\", regioes)\n",
        "\n",
        "print(\"Afiliações dos participantes:\")\n",
        "\n",
        "for afiliacao, nomes in afiliacoes.items():\n",
        "\n",
        "    print(f\"{afiliacao}: {', '.join(nomes)}\")\n",
        "\n",
        "print(\"Área de interesse mais popular:\", area_mais_popular)"
      ]
    }
  ]
}