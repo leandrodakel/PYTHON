{
  "nbformat": 4,
  "nbformat_minor": 0,
  "metadata": {
    "colab": {
      "provenance": [],
      "authorship_tag": "ABX9TyMwKVSCaJVwYl2/Qh5YBTB7",
      "include_colab_link": true
    },
    "kernelspec": {
      "name": "python3",
      "display_name": "Python 3"
    },
    "language_info": {
      "name": "python"
    }
  },
  "cells": [
    {
      "cell_type": "markdown",
      "metadata": {
        "id": "view-in-github",
        "colab_type": "text"
      },
      "source": [
        "<a href=\"https://colab.research.google.com/github/leandrodakel/PYTHON/blob/main/manipulacao_dataframe.ipynb\" target=\"_parent\"><img src=\"https://colab.research.google.com/assets/colab-badge.svg\" alt=\"Open In Colab\"/></a>"
      ]
    },
    {
      "cell_type": "code",
      "source": [
        "import pandas as pd\n",
        "\n",
        "\n",
        "\n",
        "# Criando um DataFrame com 5 linhas de dados\n",
        "\n",
        "data = {\n",
        "\n",
        "    'nome': ['Produto A', 'Produto B', 'Produto C', 'Produto A', 'Produto E'],\n",
        "\n",
        "    'quantidade de itens comprados': [3, 1, 4, 3, 2],\n",
        "\n",
        "    'tipo de item': ['Eletrônico', 'Vestuário', 'Alimento', 'Eletrônico', 'Alimento'],\n",
        "\n",
        "    'receita total': [120, 80, 60, 120, 90]\n",
        "\n",
        "}\n",
        "\n",
        "df = pd.DataFrame(data)\n",
        "\n",
        "\n",
        "\n",
        "# Duplicando uma linha\n",
        "\n",
        "df.drop_duplicates(keep='last', inplace=True)\n",
        "\n",
        "\n",
        "\n",
        "# Calculando a coluna 'preço do item'\n",
        "\n",
        "df['preço do item'] = df['receita total'] / df['quantidade de itens comprados']\n",
        "\n",
        "\n",
        "\n",
        "# Selecionando preço do item acima de 50 reais\n",
        "\n",
        "itens_acima_de_50 = df[df['preço do item'] > 50]\n",
        "\n",
        "\n",
        "\n",
        "print(\"Itens acima de 50 reais:\")\n",
        "print(itens_acima_de_50)"
      ],
      "metadata": {
        "colab": {
          "base_uri": "https://localhost:8080/"
        },
        "id": "Q2YR7JHJZUBa",
        "outputId": "688c808c-81fe-4e1f-fe0c-8eec25240030"
      },
      "execution_count": 9,
      "outputs": [
        {
          "output_type": "stream",
          "name": "stdout",
          "text": [
            "Itens acima de 50 reais:\n",
            "        nome  quantidade de itens comprados tipo de item  receita total  \\\n",
            "1  Produto B                              1    Vestuário             80   \n",
            "\n",
            "   preço do item  \n",
            "1           80.0  \n"
          ]
        }
      ]
    }
  ]
}