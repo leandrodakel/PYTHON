{
  "nbformat": 4,
  "nbformat_minor": 0,
  "metadata": {
    "colab": {
      "provenance": [],
      "authorship_tag": "ABX9TyPQJWhMiHNIjGp31/apaUpA",
      "include_colab_link": true
    },
    "kernelspec": {
      "name": "python3",
      "display_name": "Python 3"
    },
    "language_info": {
      "name": "python"
    }
  },
  "cells": [
    {
      "cell_type": "markdown",
      "metadata": {
        "id": "view-in-github",
        "colab_type": "text"
      },
      "source": [
        "<a href=\"https://colab.research.google.com/github/leandrodakel/PYTHON/blob/main/calcula_media.ipynb\" target=\"_parent\"><img src=\"https://colab.research.google.com/assets/colab-badge.svg\" alt=\"Open In Colab\"/></a>"
      ]
    },
    {
      "cell_type": "code",
      "execution_count": 1,
      "metadata": {
        "colab": {
          "base_uri": "https://localhost:8080/",
          "height": 356
        },
        "id": "z4siCVk-_FhU",
        "outputId": "71726090-a7bd-4c89-87cb-13872724872d"
      },
      "outputs": [
        {
          "output_type": "error",
          "ename": "KeyboardInterrupt",
          "evalue": "Interrupted by user",
          "traceback": [
            "\u001b[0;31m---------------------------------------------------------------------------\u001b[0m",
            "\u001b[0;31mKeyboardInterrupt\u001b[0m                         Traceback (most recent call last)",
            "\u001b[0;32m/tmp/ipython-input-2319413087.py\u001b[0m in \u001b[0;36m<cell line: 0>\u001b[0;34m()\u001b[0m\n\u001b[1;32m     21\u001b[0m \u001b[0mi\u001b[0m \u001b[0;34m=\u001b[0m \u001b[0;36m0\u001b[0m\u001b[0;34m\u001b[0m\u001b[0;34m\u001b[0m\u001b[0m\n\u001b[1;32m     22\u001b[0m \u001b[0;34m\u001b[0m\u001b[0m\n\u001b[0;32m---> 23\u001b[0;31m \u001b[0mn\u001b[0m \u001b[0;34m=\u001b[0m \u001b[0mint\u001b[0m\u001b[0;34m(\u001b[0m\u001b[0minput\u001b[0m\u001b[0;34m(\u001b[0m\u001b[0;34m\"Número de alunos a serem cadastrados:\"\u001b[0m\u001b[0;34m)\u001b[0m\u001b[0;34m)\u001b[0m\u001b[0;34m\u001b[0m\u001b[0;34m\u001b[0m\u001b[0m\n\u001b[0m\u001b[1;32m     24\u001b[0m \u001b[0;34m\u001b[0m\u001b[0m\n\u001b[1;32m     25\u001b[0m \u001b[0;32mwhile\u001b[0m \u001b[0mi\u001b[0m \u001b[0;34m<\u001b[0m \u001b[0mn\u001b[0m\u001b[0;34m:\u001b[0m\u001b[0;34m\u001b[0m\u001b[0;34m\u001b[0m\u001b[0m\n",
            "\u001b[0;32m/usr/local/lib/python3.12/dist-packages/ipykernel/kernelbase.py\u001b[0m in \u001b[0;36mraw_input\u001b[0;34m(self, prompt)\u001b[0m\n\u001b[1;32m   1175\u001b[0m                 \u001b[0;34m\"raw_input was called, but this frontend does not support input requests.\"\u001b[0m\u001b[0;34m\u001b[0m\u001b[0;34m\u001b[0m\u001b[0m\n\u001b[1;32m   1176\u001b[0m             )\n\u001b[0;32m-> 1177\u001b[0;31m         return self._input_request(\n\u001b[0m\u001b[1;32m   1178\u001b[0m             \u001b[0mstr\u001b[0m\u001b[0;34m(\u001b[0m\u001b[0mprompt\u001b[0m\u001b[0;34m)\u001b[0m\u001b[0;34m,\u001b[0m\u001b[0;34m\u001b[0m\u001b[0;34m\u001b[0m\u001b[0m\n\u001b[1;32m   1179\u001b[0m             \u001b[0mself\u001b[0m\u001b[0;34m.\u001b[0m\u001b[0m_parent_ident\u001b[0m\u001b[0;34m[\u001b[0m\u001b[0;34m\"shell\"\u001b[0m\u001b[0;34m]\u001b[0m\u001b[0;34m,\u001b[0m\u001b[0;34m\u001b[0m\u001b[0;34m\u001b[0m\u001b[0m\n",
            "\u001b[0;32m/usr/local/lib/python3.12/dist-packages/ipykernel/kernelbase.py\u001b[0m in \u001b[0;36m_input_request\u001b[0;34m(self, prompt, ident, parent, password)\u001b[0m\n\u001b[1;32m   1217\u001b[0m             \u001b[0;32mexcept\u001b[0m \u001b[0mKeyboardInterrupt\u001b[0m\u001b[0;34m:\u001b[0m\u001b[0;34m\u001b[0m\u001b[0;34m\u001b[0m\u001b[0m\n\u001b[1;32m   1218\u001b[0m                 \u001b[0;31m# re-raise KeyboardInterrupt, to truncate traceback\u001b[0m\u001b[0;34m\u001b[0m\u001b[0;34m\u001b[0m\u001b[0m\n\u001b[0;32m-> 1219\u001b[0;31m                 \u001b[0;32mraise\u001b[0m \u001b[0mKeyboardInterrupt\u001b[0m\u001b[0;34m(\u001b[0m\u001b[0;34m\"Interrupted by user\"\u001b[0m\u001b[0;34m)\u001b[0m \u001b[0;32mfrom\u001b[0m \u001b[0;32mNone\u001b[0m\u001b[0;34m\u001b[0m\u001b[0;34m\u001b[0m\u001b[0m\n\u001b[0m\u001b[1;32m   1220\u001b[0m             \u001b[0;32mexcept\u001b[0m \u001b[0mException\u001b[0m\u001b[0;34m:\u001b[0m\u001b[0;34m\u001b[0m\u001b[0;34m\u001b[0m\u001b[0m\n\u001b[1;32m   1221\u001b[0m                 \u001b[0mself\u001b[0m\u001b[0;34m.\u001b[0m\u001b[0mlog\u001b[0m\u001b[0;34m.\u001b[0m\u001b[0mwarning\u001b[0m\u001b[0;34m(\u001b[0m\u001b[0;34m\"Invalid Message:\"\u001b[0m\u001b[0;34m,\u001b[0m \u001b[0mexc_info\u001b[0m\u001b[0;34m=\u001b[0m\u001b[0;32mTrue\u001b[0m\u001b[0;34m)\u001b[0m\u001b[0;34m\u001b[0m\u001b[0;34m\u001b[0m\u001b[0m\n",
            "\u001b[0;31mKeyboardInterrupt\u001b[0m: Interrupted by user"
          ]
        }
      ],
      "source": [
        "class Alunos:\n",
        "  def __init__(self,nome,turma,nota1,nota2):\n",
        "    self.nome = nome\n",
        "    self.turma = turma\n",
        "    self.nota1 = nota1\n",
        "    self.nota2 = nota2\n",
        "\n",
        "\n",
        "  def media(self):\n",
        "    return (self.nota1 + self.nota2) / 2\n",
        "\n",
        "  def mediaFinal(self):\n",
        "    return (self.nota1 + self.nota2 + notaFinal) / 3\n",
        "\n",
        "  def status(self):\n",
        "    return f\"Aluno: {self.nome}\\n Turma: {self.turma}\\n Notas: {self.nota1}\\n {self.nota2}\\n\"\n",
        "\n",
        "lista_alunos = []\n",
        "\n",
        "n = 0\n",
        "i = 0\n",
        "\n",
        "n = int(input(\"Número de alunos a serem cadastrados:\"))\n",
        "\n",
        "while i < n:\n",
        "  print(f\"Digite os dados do aluno 0{i+1}:\")\n",
        "  if i >= 9:\n",
        "    print(f\"Digite os dados do aluno {i+1}:\")\n",
        "  nome = input(\"Nome:\")\n",
        "  turma = input(\"Turma:\")\n",
        "  nota1 = float(input(\"Nota 01:\"))\n",
        "  nota2 = float(input(\"Nota 02:\"))\n",
        "  aluno = Alunos(nome,turma,nota1,nota2)\n",
        "  lista_alunos.append(aluno)\n",
        "  print(f\"\\n\")\n",
        "  i += 1\n",
        "\n",
        "k = 0\n",
        "\n",
        "while k != 2:\n",
        "  encontrar_aluno = input(\"Digite o nome do aluno para encontrar sua média: \")\n",
        "  encontrado = False\n",
        "\n",
        "  for aluno in lista_alunos:\n",
        "    if aluno.nome == encontrar_aluno:\n",
        "      if aluno.media() >= 6:\n",
        "        print(aluno.status())\n",
        "        print(f\"A media do aluno '{aluno.nome}' é: {aluno.media()}\")\n",
        "        print(f\"O aluno '{aluno.nome}' está APROVADO\")\n",
        "        print(f\"\\n\")\n",
        "      else:\n",
        "        print(aluno.status())\n",
        "        print(f\"A media do aluno '{aluno.nome}' é: {aluno.media()}\")\n",
        "        print(f\"O aluno '{aluno.nome}' está em RECUPERAÇÃO\")\n",
        "        print(f\"\\n\")\n",
        "        notaFinal = float(input(\"Digite a nota final do aluno:\"))\n",
        "        print(f\"\\n\")\n",
        "        print(f\"A media final do aluno '{aluno.nome}' é: {aluno.mediaFinal()}\")\n",
        "        if aluno.mediaFinal() >= 6:\n",
        "          print(f\"O aluno '{aluno.nome}' está APROVADO\")\n",
        "          print(f\"\\n\")\n",
        "        else:\n",
        "          print(f\"O aluno '{aluno.nome}' está REPROVADO\")\n",
        "          print(f\"\\n\")\n",
        "\n",
        "      encontrado = True\n",
        "      break\n",
        "\n",
        "  if not encontrado:\n",
        "    print(\"Aluno não cadastrado\")\n",
        "    print(f\"\\n\")\n",
        "\n",
        "  k = int(input(\"1- Continuar | 2 - Sair\"))\n",
        "  print(f\"\\n\")"
      ]
    }
  ]
}