{
  "nbformat": 4,
  "nbformat_minor": 0,
  "metadata": {
    "colab": {
      "provenance": [],
      "authorship_tag": "ABX9TyOySxPldo6Q7pp6S8hYPcOg",
      "include_colab_link": true
    },
    "kernelspec": {
      "name": "python3",
      "display_name": "Python 3"
    },
    "language_info": {
      "name": "python"
    }
  },
  "cells": [
    {
      "cell_type": "markdown",
      "metadata": {
        "id": "view-in-github",
        "colab_type": "text"
      },
      "source": [
        "<a href=\"https://colab.research.google.com/github/leandrodakel/PYTHON/blob/main/assert_doctest_unittest.ipynb\" target=\"_parent\"><img src=\"https://colab.research.google.com/assets/colab-badge.svg\" alt=\"Open In Colab\"/></a>"
      ]
    },
    {
      "cell_type": "code",
      "execution_count": 8,
      "metadata": {
        "colab": {
          "base_uri": "https://localhost:8080/"
        },
        "id": "ZmbiUCuCcJMn",
        "outputId": "0ca179a1-b34e-4656-c100-7b52958bb797"
      },
      "outputs": [
        {
          "output_type": "stream",
          "name": "stdout",
          "text": [
            "11\n"
          ]
        }
      ],
      "source": [
        "#assert\n",
        "\n",
        "def sum_numbers(numbers):\n",
        "\n",
        "    assert sum([1, 2, 3, 4]) == 10\n",
        "\n",
        "    assert sum([-1, 0, 1]) == 0\n",
        "\n",
        "    assert sum([]) == 0\n",
        "\n",
        "    return sum(numbers)\n",
        "\n",
        "teste = sum_numbers([1, 2, 3, 5])\n",
        "\n",
        "print(teste)\n"
      ]
    },
    {
      "cell_type": "code",
      "source": [
        "#doctest\n",
        "\n",
        "def sum_numbers(numbers):\n",
        "  return sum(numbers)\n",
        "\"\"\"\n",
        "    Soma os números em uma lista.\n",
        "\n",
        "\n",
        "\n",
        "    Exemplos:\n",
        "\n",
        "    >>> sum_numbers([1, 2, 3, 4])\n",
        "\n",
        "    8\n",
        "\n",
        "    >>> sum_numbers([-1, 0, 1]) =\n",
        "\n",
        "    0\n",
        "\n",
        "    >>> sum_numbers([])\n",
        "\n",
        "    0\n",
        "\n",
        "    \"\"\"\n",
        "\n",
        "\n",
        "\n",
        "\n",
        "\n",
        "if __name__ =='__main__':\n",
        "\n",
        "    import doctest\n",
        "\n",
        "    doctest.testmod()\n"
      ],
      "metadata": {
        "colab": {
          "base_uri": "https://localhost:8080/"
        },
        "id": "UcrsILEpcL_H",
        "outputId": "2b6904c3-29bf-406c-8d4a-b28672c919e3"
      },
      "execution_count": 3,
      "outputs": [
        {
          "output_type": "stream",
          "name": "stdout",
          "text": [
            "**********************************************************************\n",
            "File \"__main__\", line 9, in __main__\n",
            "Failed example:\n",
            "    sum_numbers([1, 2, 3, 4])\n",
            "Expected nothing\n",
            "Got:\n",
            "    10\n",
            "**********************************************************************\n",
            "File \"__main__\", line 13, in __main__\n",
            "Failed example:\n",
            "    sum_numbers([-1, 0, 1]) = \n",
            "Exception raised:\n",
            "    Traceback (most recent call last):\n",
            "      File \"/usr/lib/python3.12/doctest.py\", line 1368, in __run\n",
            "        exec(compile(example.source, filename, \"single\",\n",
            "             ^^^^^^^^^^^^^^^^^^^^^^^^^^^^^^^^^^^^^^^^^^^\n",
            "      File \"<doctest __main__[1]>\", line 1\n",
            "        sum_numbers([-1, 0, 1]) = \n",
            "        ^^^^^^^^^^^^^^^^^^^^^^^\n",
            "    SyntaxError: cannot assign to function call\n",
            "**********************************************************************\n",
            "File \"__main__\", line 17, in __main__\n",
            "Failed example:\n",
            "    sum_numbers([])\n",
            "Expected nothing\n",
            "Got:\n",
            "    0\n",
            "**********************************************************************\n",
            "1 items had failures:\n",
            "   3 of   3 in __main__\n",
            "***Test Failed*** 3 failures.\n"
          ]
        }
      ]
    },
    {
      "cell_type": "code",
      "source": [
        "#unittest\n",
        "\n",
        "import unittest\n",
        "\n",
        "def sum_numbers(numbers):\n",
        "\n",
        "    return sum(numbers)\n",
        "\n",
        "\n",
        "\n",
        "class TestSumNumbers(unittest.TestCase):\n",
        "\n",
        "    def test_sum_numbers_positive(self):\n",
        "\n",
        "        self.assertEqual(sum_numbers([1, 2, 3, 4]), 10)\n",
        "\n",
        "\n",
        "\n",
        "    def test_sum_numbers_mixed(self):\n",
        "\n",
        "        self.assertEqual(sum_numbers([-1, 0, 1]), 0)\n",
        "\n",
        "\n",
        "\n",
        "    def test_sum_numbers_empty(self):\n",
        "\n",
        "        self.assertEqual(sum_numbers([]), 0)\n",
        "\n",
        "\n",
        "\n",
        "if __name__ == '__main__':\n",
        "\n",
        "    unittest.main(argv=['first-arg-is-ignored'], exit=False)"
      ],
      "metadata": {
        "colab": {
          "base_uri": "https://localhost:8080/"
        },
        "id": "_OU9g0vWcLkw",
        "outputId": "cc99e411-b1e6-4956-8f25-1807228ad766"
      },
      "execution_count": 6,
      "outputs": [
        {
          "output_type": "stream",
          "name": "stderr",
          "text": [
            "...\n",
            "----------------------------------------------------------------------\n",
            "Ran 3 tests in 0.003s\n",
            "\n",
            "OK\n"
          ]
        }
      ]
    }
  ]
}