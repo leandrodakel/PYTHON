{
  "nbformat": 4,
  "nbformat_minor": 0,
  "metadata": {
    "colab": {
      "provenance": [],
      "authorship_tag": "ABX9TyMbOKDvWUaVDu+QwGeC4dfm",
      "include_colab_link": true
    },
    "kernelspec": {
      "name": "python3",
      "display_name": "Python 3"
    },
    "language_info": {
      "name": "python"
    }
  },
  "cells": [
    {
      "cell_type": "markdown",
      "metadata": {
        "id": "view-in-github",
        "colab_type": "text"
      },
      "source": [
        "<a href=\"https://colab.research.google.com/github/leandrodakel/PYTHON/blob/main/media.ipynb\" target=\"_parent\"><img src=\"https://colab.research.google.com/assets/colab-badge.svg\" alt=\"Open In Colab\"/></a>"
      ]
    },
    {
      "cell_type": "code",
      "execution_count": 1,
      "metadata": {
        "id": "qB0hr6G0apit",
        "colab": {
          "base_uri": "https://localhost:8080/"
        },
        "outputId": "5bd88af6-f3eb-41fa-c2c5-016ec5fe2f2c"
      },
      "outputs": [
        {
          "output_type": "stream",
          "name": "stdout",
          "text": [
            "Hello World!\n"
          ]
        }
      ],
      "source": [
        "print(\"Hello World!\")"
      ]
    },
    {
      "cell_type": "code",
      "source": [
        "Nota_1 = int(input(\"Digite a primeira nota \"))\n",
        "Nota_2 = int(input(\"Digite a segunda nota \"))\n",
        "Nota_3 = int(input(\"Digite a terceira nota \"))\n",
        "Nota_4 = int(input(\"Digite a quarta nota \"))"
      ],
      "metadata": {
        "colab": {
          "base_uri": "https://localhost:8080/"
        },
        "id": "jCzwSOqhczAc",
        "outputId": "93718ca0-3a81-4166-a90f-fe78bcadc4b0"
      },
      "execution_count": 3,
      "outputs": [
        {
          "name": "stdout",
          "output_type": "stream",
          "text": [
            "Digite a primeira nota 10\n",
            "Digite a segunda nota 6\n",
            "Digite a terceira nota 3\n",
            "Digite a quarta nota 8\n"
          ]
        }
      ]
    },
    {
      "cell_type": "code",
      "source": [
        "media = (Nota_1 + Nota_2 + Nota_3 + Nota_4) / 4\n",
        "\n",
        "if media >= 6:\n",
        "  situacao = \"Aprovado\"\n",
        "\n",
        "else:\n",
        "  situacao = \"Reprovado\""
      ],
      "metadata": {
        "id": "1aYDepnIdyfB"
      },
      "execution_count": 6,
      "outputs": []
    },
    {
      "cell_type": "code",
      "source": [
        "print(f\"A média do aluno foi: {media}\")\n",
        "print(f\"Situação do aluno: {situacao}\")"
      ],
      "metadata": {
        "colab": {
          "base_uri": "https://localhost:8080/"
        },
        "id": "I7FiOqeLeOnn",
        "outputId": "2c9fdab6-d208-4d85-903f-bd09b8567a84"
      },
      "execution_count": 7,
      "outputs": [
        {
          "output_type": "stream",
          "name": "stdout",
          "text": [
            "A média do aluno foi: 6.75\n",
            "Situação do aluno: Aprovado\n"
          ]
        }
      ]
    }
  ]
}