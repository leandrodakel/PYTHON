{
  "nbformat": 4,
  "nbformat_minor": 0,
  "metadata": {
    "colab": {
      "provenance": [],
      "authorship_tag": "ABX9TyPh1yw9+s+7GLG76Xqfm88y",
      "include_colab_link": true
    },
    "kernelspec": {
      "name": "python3",
      "display_name": "Python 3"
    },
    "language_info": {
      "name": "python"
    }
  },
  "cells": [
    {
      "cell_type": "markdown",
      "metadata": {
        "id": "view-in-github",
        "colab_type": "text"
      },
      "source": [
        "<a href=\"https://colab.research.google.com/github/leandrodakel/PYTHON/blob/main/grafico_dados_aleatorios_matplotlob.ipynb\" target=\"_parent\"><img src=\"https://colab.research.google.com/assets/colab-badge.svg\" alt=\"Open In Colab\"/></a>"
      ]
    },
    {
      "cell_type": "code",
      "execution_count": 2,
      "metadata": {
        "colab": {
          "base_uri": "https://localhost:8080/",
          "height": 484
        },
        "id": "Z61KR0r5Ut0c",
        "outputId": "ee101c26-15d6-4d0d-97af-16a474cda107"
      },
      "outputs": [
        {
          "output_type": "stream",
          "name": "stdout",
          "text": [
            "[65, 1, 42, 83, 98, 81, 25, 31, 54, 99, 11, 19, 74, 96, 5, 21, 97, 88, 47, 7]\n",
            "[79, 86, 99, 26, 83, 67, 55, 11, 46, 51, 72, 7, 75, 59, 97, 57, 94, 68, 64, 96]\n"
          ]
        },
        {
          "output_type": "execute_result",
          "data": {
            "text/plain": [
              "<BarContainer object of 20 artists>"
            ]
          },
          "metadata": {},
          "execution_count": 2
        },
        {
          "output_type": "display_data",
          "data": {
            "text/plain": [
              "<Figure size 640x480 with 1 Axes>"
            ],
            "image/png": "[encoded data removed]"
          },
          "metadata": {}
        }
      ],
      "source": [
        "# Gerando um grafico com dados aleatórios usando Matplotlib\n",
        "\n",
        "import matplotlib.pyplot as plt\n",
        "\n",
        "import random\n",
        "\n",
        "\n",
        "\n",
        "dados1 = random.sample(range(100), k=20)\n",
        "\n",
        "dados2 = random.sample(range(100), k=20)\n",
        "\n",
        "print(dados1)\n",
        "print(dados2)\n",
        "\n",
        "plt.bar(dados1, dados2) # pyplot gerencia a figura e o eixo"
      ]
    }
  ]
}