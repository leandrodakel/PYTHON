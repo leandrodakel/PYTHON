{
  "nbformat": 4,
  "nbformat_minor": 0,
  "metadata": {
    "colab": {
      "provenance": [],
      "authorship_tag": "ABX9TyOWudCpFil01KrVeEGS82mT",
      "include_colab_link": true
    },
    "kernelspec": {
      "name": "python3",
      "display_name": "Python 3"
    },
    "language_info": {
      "name": "python"
    }
  },
  "cells": [
    {
      "cell_type": "markdown",
      "metadata": {
        "id": "view-in-github",
        "colab_type": "text"
      },
      "source": [
        "<a href=\"https://colab.research.google.com/github/leandrodakel/PYTHON/blob/main/At_prat_un_2_aula_4_.ipynb\" target=\"_parent\"><img src=\"https://colab.research.google.com/assets/colab-badge.svg\" alt=\"Open In Colab\"/></a>"
      ]
    },
    {
      "cell_type": "code",
      "execution_count": 8,
      "metadata": {
        "colab": {
          "base_uri": "https://localhost:8080/"
        },
        "id": "ZNPwU47wSv5d",
        "outputId": "c08e64b0-c986-458c-cfbf-86df4b2c0ea1"
      },
      "outputs": [
        {
          "output_type": "stream",
          "name": "stdout",
          "text": [
            "Número de alunos a serem cadastrados:1\n",
            "\n",
            "\n",
            "Digite os dados do aluno 01:\n",
            "Nome:Leo\n",
            " Nota 01:6\n",
            " Nota 02:8\n",
            "O aluno 'Leo' foi cadastrado\n",
            "\n",
            "\n",
            "Digite o nome do aluno para calcular sua média: Leo\n",
            "Aluno: Leo\n",
            " Nota 01: 6.0\n",
            " Nota 02: 8.0\n",
            "\n",
            "A media do aluno 'Leo' é: 7.0\n",
            "O aluno 'Leo' está APROVADO\n",
            "\n",
            "\n",
            "1- Continuar | 2 - Sair 2\n",
            "\n",
            "\n"
          ]
        }
      ],
      "source": [
        "class Alunos:\n",
        "  def __init__(self,nome,nota1,nota2):\n",
        "    self.nome = nome\n",
        "    self.nota1 = nota1\n",
        "    self.nota2 = nota2\n",
        "\n",
        "  def media(self):\n",
        "    return (self.nota1 + self.nota2) / 2\n",
        "\n",
        "  def status(self):\n",
        "    return f\"Aluno: {self.nome}\\n Nota 01: {self.nota1}\\n Nota 02: {self.nota2}\\n\"\n",
        "\n",
        "  def aviso(self):\n",
        "    return f\"O aluno '{self.nome}' foi cadastrado\"\n",
        "\n",
        "lista_alunos = []\n",
        "\n",
        "n = 0\n",
        "i = 0\n",
        "\n",
        "n = int(input(\"Número de alunos a serem cadastrados:\"))\n",
        "print(f\"\\n\")\n",
        "\n",
        "while i < n:\n",
        "  print(f\"Digite os dados do aluno 0{i+1}:\")\n",
        "  if i >= 9:\n",
        "    print(f\"Digite os dados do aluno {i+1}:\")\n",
        "  nome = input(\"Nome:\")\n",
        "  nota1 = float(input(\" Nota 01:\"))\n",
        "  nota2 = float(input(\" Nota 02:\"))\n",
        "  aluno = Alunos(nome,nota1,nota2)\n",
        "  lista_alunos.append(aluno)\n",
        "  print(aluno.aviso())\n",
        "  print(f\"\\n\")\n",
        "  i += 1\n",
        "\n",
        "k = 0\n",
        "\n",
        "while k != 2:\n",
        "  encontrar_aluno = input(\"Digite o nome do aluno para calcular sua média: \")\n",
        "  encontrado = False\n",
        "\n",
        "  for aluno in lista_alunos:\n",
        "    if aluno.nome == encontrar_aluno:\n",
        "      if aluno.media() >= 7:\n",
        "        print(aluno.status())\n",
        "        print(f\"A media do aluno '{aluno.nome}' é: {aluno.media()}\")\n",
        "        print(f\"O aluno '{aluno.nome}' está APROVADO\")\n",
        "        print(f\"\\n\")\n",
        "      else:\n",
        "        print(aluno.status())\n",
        "        print(f\"A media do aluno '{aluno.nome}' é: {aluno.media()}\")\n",
        "        print(f\"O aluno '{aluno.nome}' está REPROVADO\")\n",
        "        print(f\"\\n\")\n",
        "\n",
        "      encontrado = True\n",
        "      break\n",
        "\n",
        "  if not encontrado:\n",
        "    print(\"Aluno não cadastrado\")\n",
        "    print(f\"\\n\")\n",
        "\n",
        "  k = int(input(\"1- Continuar | 2 - Sair \"))\n",
        "  print(f\"\\n\")"
      ]
    }
  ]
}