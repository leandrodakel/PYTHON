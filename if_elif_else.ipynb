{
  "nbformat": 4,
  "nbformat_minor": 0,
  "metadata": {
    "colab": {
      "provenance": [],
      "authorship_tag": "ABX9TyPgxf+QEtaGfu+upJMfjIt6",
      "include_colab_link": true
    },
    "kernelspec": {
      "name": "python3",
      "display_name": "Python 3"
    },
    "language_info": {
      "name": "python"
    }
  },
  "cells": [
    {
      "cell_type": "markdown",
      "metadata": {
        "id": "view-in-github",
        "colab_type": "text"
      },
      "source": [
        "<a href=\"https://colab.research.google.com/github/leandrodakel/PYTHON/blob/main/if_elif_else.ipynb\" target=\"_parent\"><img src=\"https://colab.research.google.com/assets/colab-badge.svg\" alt=\"Open In Colab\"/></a>"
      ]
    },
    {
      "cell_type": "code",
      "source": [
        "print(\"Bem-vindo ao sistema do cinema\")"
      ],
      "metadata": {
        "colab": {
          "base_uri": "https://localhost:8080/"
        },
        "id": "-gbfhdPiaKs1",
        "outputId": "56890d82-ada3-4ce0-c7a9-bca722297553"
      },
      "execution_count": null,
      "outputs": [
        {
          "output_type": "stream",
          "name": "stdout",
          "text": [
            "Bem-vindo ao sistema do cinema\n"
          ]
        }
      ]
    },
    {
      "cell_type": "code",
      "source": [
        "print(\"informe sua idade para que possamos indicar um filme que se adeque a você\")\n",
        "\n",
        "idade = int(input(\"Idade: \"))"
      ],
      "metadata": {
        "colab": {
          "base_uri": "https://localhost:8080/"
        },
        "id": "4sMVKv_QaVcb",
        "outputId": "ecedbea1-5b88-4d4a-c12a-f6554fc8c1c0"
      },
      "execution_count": null,
      "outputs": [
        {
          "name": "stdout",
          "output_type": "stream",
          "text": [
            "informe sua idade para que possamos indicar um filme que se adeque a você\n",
            "Idade: 10\n"
          ]
        }
      ]
    },
    {
      "cell_type": "code",
      "source": [
        "if idade < 12:\n",
        "  print(\"Recomendamos o filme infantil FILME 1\")\n",
        "\n",
        "elif idade >= 12 and idade < 18:\n",
        "  print(\"Recomendamos o filme adolescente FILME 2\")\n",
        "\n",
        "else:\n",
        "  print(\"Recomendamos o filme emocionante FILME 3\")\n",
        "\n"
      ],
      "metadata": {
        "colab": {
          "base_uri": "https://localhost:8080/"
        },
        "id": "nQS_LMiLbCYd",
        "outputId": "cdd63283-d103-4ca0-ee2f-e21acca6fa42"
      },
      "execution_count": null,
      "outputs": [
        {
          "output_type": "stream",
          "name": "stdout",
          "text": [
            "Recomendamos o filme infantil FILME 1\n"
          ]
        }
      ]
    }
  ]
}