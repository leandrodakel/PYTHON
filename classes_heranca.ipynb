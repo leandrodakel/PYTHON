{
  "nbformat": 4,
  "nbformat_minor": 0,
  "metadata": {
    "colab": {
      "provenance": [],
      "authorship_tag": "ABX9TyPeg44SAm72UQK3n9tSvfA5",
      "include_colab_link": true
    },
    "kernelspec": {
      "name": "python3",
      "display_name": "Python 3"
    },
    "language_info": {
      "name": "python"
    }
  },
  "cells": [
    {
      "cell_type": "markdown",
      "metadata": {
        "id": "view-in-github",
        "colab_type": "text"
      },
      "source": [
        "<a href=\"https://colab.research.google.com/github/leandrodakel/PYTHON/blob/main/classes_heranca.ipynb\" target=\"_parent\"><img src=\"https://colab.research.google.com/assets/colab-badge.svg\" alt=\"Open In Colab\"/></a>"
      ]
    },
    {
      "cell_type": "code",
      "execution_count": 2,
      "metadata": {
        "colab": {
          "base_uri": "https://localhost:8080/"
        },
        "id": "e0-GMXyZoFtg",
        "outputId": "2578561a-7766-441c-b71c-6afd0559926a"
      },
      "outputs": [
        {
          "output_type": "stream",
          "name": "stdout",
          "text": [
            "Olá, meu nome é João.\n",
            "Idade: 30\n",
            "Nova idade: 31\n"
          ]
        }
      ],
      "source": [
        "# Define uma classe chamada Pessoa.\n",
        "\n",
        "class Pessoa:\n",
        "\n",
        "    # O método __init__ é um construtor, chamado quando um objeto da classe é criado.\n",
        "\n",
        "    # Ele inicializa os atributos da classe.\n",
        "\n",
        "    def __init__(self, nome, idade, genero):\n",
        "\n",
        "        # self é uma convenção em Python que se refere à própria instância da classe.\n",
        "\n",
        "        # Os parâmetros nome, idade e gênero são passados durante a criação do objeto.\n",
        "\n",
        "        # Eles são usados para inicializar os atributos da instância.\n",
        "\n",
        "        self.nome = nome  # Atribui o valor de nome ao atributo nome da instância.\n",
        "\n",
        "        self.idade = idade  # Atribui o valor de idade ao atributo idade da instância.\n",
        "\n",
        "        self.genero = genero  # Atribui o valor de gênero ao atributo gênero da instância.\n",
        "\n",
        "    # O método cumprimentar retorna uma saudação com o nome da pessoa.\n",
        "\n",
        "    def cumprimentar(self):\n",
        "\n",
        "        return f\"Olá, meu nome é {self.nome}.\"\n",
        "\n",
        "    # O método aniversário aumenta a idade da pessoa em 1.\n",
        "\n",
        "    def aniversario(self):\n",
        "\n",
        "        self.idade += 1\n",
        "\n",
        "# Cria uma instância da classe “Pessoa” com os valores “João”, 30 e “Masculino” para nome, idade e gênero, respectivamente.\n",
        "\n",
        "pessoa1 = Pessoa(\"João\", 30, \"Masculino\")\n",
        "\n",
        "# Chama o método “cumprimentar” na instância pessoa1 e imprime a saudação.\n",
        "\n",
        "print(pessoa1.cumprimentar())  # Saída: “Olá, meu nome é João.”\n",
        "\n",
        "# Acessa o atributo idade da instância pessoa1 e imprime sua idade.\n",
        "\n",
        "print(f\"Idade: {pessoa1.idade}\")  # Saída: “Idade: 30”\n",
        "\n",
        "# Chama o método “aniversário” na instância pessoa1 para aumentar sua idade em 1.\n",
        "\n",
        "pessoa1.aniversario()\n",
        "\n",
        "# Acessa o atributo idade atualizado da instância pessoa1 e imprime a nova idade.\n",
        "\n",
        "print(f\"Nova idade: {pessoa1.idade}\")  # Saída: “Nova idade: 31”"
      ]
    },
    {
      "cell_type": "code",
      "source": [
        "class Animal:\n",
        "\n",
        "    def __init__(self, nome):\n",
        "\n",
        "        self.nome = nome\n",
        "\n",
        "    def fazer_barulho(self):\n",
        "\n",
        "        pass\n",
        "\n",
        "class Cachorro(Animal):\n",
        "\n",
        "    def fazer_barulho(self):\n",
        "\n",
        "        return \"Latir\"\n",
        "\n",
        "class Gato(Animal):\n",
        "\n",
        "    def fazer_barulho(self):\n",
        "\n",
        "        return \"Miar\"\n",
        "\n",
        "\n",
        "\n",
        "# Criando objetos das classes-filhas\n",
        "\n",
        "rex = Cachorro(\"Rex\")\n",
        "\n",
        "whiskers = Gato(\"Whiskers\")\n",
        "\n",
        "# Chamando o método fazer_barulho em objetos\n",
        "\n",
        "print(f\"{rex.nome} faz: {rex.fazer_barulho()}\")  # Saída: \"Rex faz: Latir\"\n",
        "\n",
        "print(f\"{whiskers.nome} faz: {whiskers.fazer_barulho()}\")  # Saída: \"Whiskers faz: Miar\""
      ],
      "metadata": {
        "colab": {
          "base_uri": "https://localhost:8080/"
        },
        "id": "BBY5xy9Looim",
        "outputId": "02d903f8-4a2a-42b8-f06d-209564f6a6ba"
      },
      "execution_count": 3,
      "outputs": [
        {
          "output_type": "stream",
          "name": "stdout",
          "text": [
            "Rex faz: Latir\n",
            "Whiskers faz: Miar\n"
          ]
        }
      ]
    },
    {
      "cell_type": "code",
      "source": [
        "class Veiculo:\n",
        "\n",
        "    def __init__(self, marca, modelo, ano):\n",
        "\n",
        "        self.marca = marca\n",
        "\n",
        "        self.modelo = modelo\n",
        "\n",
        "        self.ano = ano\n",
        "\n",
        "        self.velocidade = 0\n",
        "\n",
        "\n",
        "\n",
        "    def acelerar(self, incremento):\n",
        "\n",
        "        self.velocidade += incremento\n",
        "\n",
        "\n",
        "\n",
        "    def frear(self, decremento):\n",
        "\n",
        "        self.velocidade -= decremento\n",
        "\n",
        "\n",
        "\n",
        "    def status(self):\n",
        "\n",
        "        return f\"Marca: {self.marca}, Modelo: {self.modelo}, Ano: {self.ano}, Velocidade: {self.velocidade} km/h\"\n",
        "\n",
        "\n",
        "\n",
        "class Carro(Veiculo):\n",
        "\n",
        "    def __init__(self, marca, modelo, ano, potencia):\n",
        "\n",
        "        super().__init__(marca, modelo, ano)\n",
        "\n",
        "        self.potencia = potencia\n",
        "\n",
        "\n",
        "\n",
        "    def acelerar(self, incremento):\n",
        "\n",
        "        # Carros podem acelerar mais rápido.\n",
        "\n",
        "        self.velocidade += incremento + self.potencia\n",
        "\n",
        "\n",
        "\n",
        "class Bicicleta(Veiculo):\n",
        "\n",
        "    def __init__(self, marca, modelo, ano, tipo):\n",
        "\n",
        "        super().__init__(marca, modelo, ano)\n",
        "\n",
        "        self.tipo = tipo\n",
        "\n",
        "\n",
        "\n",
        "    def status(self):\n",
        "\n",
        "        return f\"Marca: {self.marca}, Modelo: {self.modelo}, Ano: {self.ano}, Tipo: {self.tipo}, Velocidade: {self.velocidade} km/h\"\n",
        "\n",
        "\n",
        "\n",
        "# Criando objetos\n",
        "\n",
        "carro1 = Carro(\"Toyota\", \"Corolla\", 2022, 150)\n",
        "\n",
        "bicicleta1 = Bicicleta(\"Trek\", \"Mountain Bike\", 2021, \"MTB\")\n",
        "\n",
        "\n",
        "\n",
        "# Acelerando e verificando o status\n",
        "\n",
        "carro1.acelerar(50)\n",
        "\n",
        "bicicleta1.acelerar(20)\n",
        "\n",
        "\n",
        "\n",
        "# Exibindo o status dos veículos\n",
        "\n",
        "print(\"Status do Carro:\")\n",
        "\n",
        "print(carro1.status())\n",
        "\n",
        "\n",
        "\n",
        "print(\"\\nStatus da Bicicleta:\")\n",
        "\n",
        "print(bicicleta1.status())"
      ],
      "metadata": {
        "colab": {
          "base_uri": "https://localhost:8080/"
        },
        "id": "27R-AluQo-m3",
        "outputId": "a4d6bb8d-1f16-4951-b43f-9ccfb18e1b5d"
      },
      "execution_count": 4,
      "outputs": [
        {
          "output_type": "stream",
          "name": "stdout",
          "text": [
            "Status do Carro:\n",
            "Marca: Toyota, Modelo: Corolla, Ano: 2022, Velocidade: 200 km/h\n",
            "\n",
            "Status da Bicicleta:\n",
            "Marca: Trek, Modelo: Mountain Bike, Ano: 2021, Tipo: MTB, Velocidade: 20 km/h\n"
          ]
        }
      ]
    }
  ]
}